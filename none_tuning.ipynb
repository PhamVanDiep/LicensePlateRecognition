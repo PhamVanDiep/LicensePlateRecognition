{
 "cells": [
  {
   "cell_type": "code",
   "execution_count": 1,
   "metadata": {},
   "outputs": [],
   "source": [
    "import pandas as pd\n",
    "import numpy as np\n",
    "import matplotlib.pyplot as plt\n",
    "from sklearn.model_selection import train_test_split\n",
    "#keras\n",
    "from keras.models import Sequential\n",
    "from keras.layers import Dense, Dropout, Flatten\n",
    "from keras.layers import Conv2D, MaxPooling2D\n",
    "from keras.utils import np_utils"
   ]
  },
  {
   "cell_type": "code",
   "execution_count": 2,
   "metadata": {},
   "outputs": [],
   "source": [
    "train = pd.read_csv(\"emnist-balanced-train.csv\",delimiter = ',')\n",
    "test = pd.read_csv(\"emnist-balanced-test.csv\", delimiter = ',')"
   ]
  },
  {
   "cell_type": "code",
   "execution_count": 3,
   "metadata": {},
   "outputs": [],
   "source": [
    "HEIGHT = 28\n",
    "WIDTH = 28"
   ]
  },
  {
   "cell_type": "code",
   "execution_count": 4,
   "metadata": {},
   "outputs": [],
   "source": [
    "\n",
    "\n",
    "# Split x and y\n",
    "train_x = train.iloc[:,1:]\n",
    "train_y = train.iloc[:,0]\n",
    "del train\n",
    "\n",
    "test_x = test.iloc[:,1:]\n",
    "test_y = test.iloc[:,0]\n",
    "del test"
   ]
  },
  {
   "cell_type": "code",
   "execution_count": 5,
   "metadata": {},
   "outputs": [],
   "source": [
    "def rotate(image):\n",
    "    image = image.reshape([HEIGHT, WIDTH])\n",
    "    image = np.fliplr(image)\n",
    "    image = np.rot90(image)\n",
    "    return image"
   ]
  },
  {
   "cell_type": "code",
   "execution_count": 6,
   "metadata": {},
   "outputs": [],
   "source": [
    "# Flip and rotate image\n",
    "train_x = np.asarray(train_x)\n",
    "train_x = np.apply_along_axis(rotate, 1, train_x)\n",
    "test_x = np.asarray(test_x)\n",
    "test_x = np.apply_along_axis(rotate, 1, test_x)"
   ]
  },
  {
   "cell_type": "code",
   "execution_count": 7,
   "metadata": {},
   "outputs": [],
   "source": [
    "# Normalise\n",
    "train_x = train_x.astype('float32')\n",
    "train_x /= 255\n",
    "test_x = test_x.astype('float32')\n",
    "test_x /= 255"
   ]
  },
  {
   "cell_type": "code",
   "execution_count": 8,
   "metadata": {},
   "outputs": [],
   "source": [
    "# number of classes\n",
    "num_classes = train_y.nunique()"
   ]
  },
  {
   "cell_type": "code",
   "execution_count": 9,
   "metadata": {},
   "outputs": [],
   "source": [
    "# One hot encoding\n",
    "train_y = np_utils.to_categorical(train_y, num_classes)\n",
    "test_y = np_utils.to_categorical(test_y, num_classes)"
   ]
  },
  {
   "cell_type": "code",
   "execution_count": 10,
   "metadata": {},
   "outputs": [],
   "source": [
    "# partition to train and val\n",
    "train_x, val_x, train_y, val_y = train_test_split(train_x, train_y, test_size= 0.10, random_state=7)"
   ]
  },
  {
   "cell_type": "code",
   "execution_count": 11,
   "metadata": {},
   "outputs": [],
   "source": [
    "# Reshape image for CNN\n",
    "train_x = train_x.reshape(-1, HEIGHT, WIDTH, 1)\n",
    "test_x = test_x.reshape(-1, HEIGHT, WIDTH, 1)"
   ]
  },
  {
   "cell_type": "code",
   "execution_count": 12,
   "metadata": {},
   "outputs": [
    {
     "name": "stdout",
     "output_type": "stream",
     "text": [
      "Model: \"sequential\"\n",
      "_________________________________________________________________\n",
      " Layer (type)                Output Shape              Param #   \n",
      "=================================================================\n",
      " conv2d (Conv2D)             (None, 28, 28, 128)       3328      \n",
      "                                                                 \n",
      " max_pooling2d (MaxPooling2D  (None, 14, 14, 128)      0         \n",
      " )                                                               \n",
      "                                                                 \n",
      " conv2d_1 (Conv2D)           (None, 14, 14, 64)        73792     \n",
      "                                                                 \n",
      " max_pooling2d_1 (MaxPooling  (None, 7, 7, 64)         0         \n",
      " 2D)                                                             \n",
      "                                                                 \n",
      " flatten (Flatten)           (None, 3136)              0         \n",
      "                                                                 \n",
      " dense (Dense)               (None, 128)               401536    \n",
      "                                                                 \n",
      " dense_1 (Dense)             (None, 47)                6063      \n",
      "                                                                 \n",
      "=================================================================\n",
      "Total params: 484,719\n",
      "Trainable params: 484,719\n",
      "Non-trainable params: 0\n",
      "_________________________________________________________________\n",
      "Epoch 1/10\n",
      "199/199 [==============================] - 192s 961ms/step - loss: 1.0635 - accuracy: 0.6923 - val_loss: 0.5700 - val_accuracy: 0.8083\n",
      "Epoch 2/10\n",
      "199/199 [==============================] - 186s 933ms/step - loss: 0.4988 - accuracy: 0.8364 - val_loss: 0.4610 - val_accuracy: 0.8484\n",
      "Epoch 3/10\n",
      "199/199 [==============================] - 184s 925ms/step - loss: 0.4160 - accuracy: 0.8597 - val_loss: 0.4203 - val_accuracy: 0.8527\n",
      "Epoch 4/10\n",
      "199/199 [==============================] - 179s 899ms/step - loss: 0.3731 - accuracy: 0.8723 - val_loss: 0.4004 - val_accuracy: 0.8629\n",
      "Epoch 5/10\n",
      "199/199 [==============================] - 183s 919ms/step - loss: 0.3394 - accuracy: 0.8817 - val_loss: 0.3794 - val_accuracy: 0.8688\n",
      "Epoch 6/10\n",
      "199/199 [==============================] - 180s 906ms/step - loss: 0.3178 - accuracy: 0.8866 - val_loss: 0.3648 - val_accuracy: 0.8683\n",
      "Epoch 7/10\n",
      "199/199 [==============================] - 181s 907ms/step - loss: 0.2963 - accuracy: 0.8933 - val_loss: 0.3615 - val_accuracy: 0.8724\n",
      "Epoch 8/10\n",
      "199/199 [==============================] - 180s 906ms/step - loss: 0.2796 - accuracy: 0.8978 - val_loss: 0.3611 - val_accuracy: 0.8703\n",
      "Epoch 9/10\n",
      "199/199 [==============================] - 181s 910ms/step - loss: 0.2637 - accuracy: 0.9022 - val_loss: 0.3666 - val_accuracy: 0.8736\n",
      "Epoch 10/10\n",
      "199/199 [==============================] - 180s 902ms/step - loss: 0.2476 - accuracy: 0.9075 - val_loss: 0.3671 - val_accuracy: 0.8733\n"
     ]
    }
   ],
   "source": [
    "model = Sequential()\n",
    "\n",
    "model.add(Conv2D(filters=128, kernel_size=(5,5), padding = 'same', activation='relu', input_shape=(HEIGHT, WIDTH,1)))\n",
    "model.add(MaxPooling2D(pool_size=(2,2), strides=(2,2)))\n",
    "model.add(Conv2D(filters=64, kernel_size=(3,3) , padding = 'same', activation='relu'))\n",
    "model.add(MaxPooling2D(pool_size=(2,2)))\n",
    "\n",
    "model.add(Flatten())\n",
    "model.add(Dense(units=128, activation='relu'))\n",
    "model.add(Dense(units=num_classes, activation='softmax'))\n",
    "\n",
    "# model.summary()\n",
    "\n",
    "model.compile(loss='categorical_crossentropy', optimizer='adam', metrics=['accuracy'])\n",
    "history = model.fit(train_x, train_y, epochs=10, batch_size=512, verbose=1, validation_data=(val_x, val_y))"
   ]
  },
  {
   "cell_type": "code",
   "execution_count": 13,
   "metadata": {},
   "outputs": [],
   "source": [
    "# plot accuracy and loss\n",
    "def plotgraph(epochs, acc, val_acc, type):\n",
    "    plt.plot(epochs, acc, 'b')\n",
    "    plt.plot(epochs, val_acc, 'r')\n",
    "    plt.xlabel('Epoch')\n",
    "    plt.legend(['Train', 'Val'], loc='upper left')\n",
    "    if (type == \"Accuracy\"):\n",
    "        plt.title('Model accuracy')\n",
    "        plt.ylabel('Accuracy')\n",
    "    else:\n",
    "        plt.title('Model loss')\n",
    "        plt.ylabel('Loss')\n",
    "    plt.show()"
   ]
  },
  {
   "cell_type": "code",
   "execution_count": 14,
   "metadata": {},
   "outputs": [],
   "source": [
    "acc = history.history['accuracy']\n",
    "val_acc = history.history['val_accuracy']\n",
    "loss = history.history['loss']\n",
    "val_loss = history.history['val_loss']\n",
    "epochs = range(1,len(acc)+1)"
   ]
  },
  {
   "cell_type": "code",
   "execution_count": 15,
   "metadata": {},
   "outputs": [
    {
     "data": {
      "image/png": "[encoded data removed]",
      "text/plain": [
       "<Figure size 432x288 with 1 Axes>"
      ]
     },
     "metadata": {
      "needs_background": "light"
     },
     "output_type": "display_data"
    }
   ],
   "source": [
    "plotgraph(epochs, acc, val_acc, \"Accuracy\")"
   ]
  },
  {
   "cell_type": "code",
   "execution_count": 16,
   "metadata": {},
   "outputs": [
    {
     "data": {
      "image/png": "[encoded data removed]",
      "text/plain": [
       "<Figure size 432x288 with 1 Axes>"
      ]
     },
     "metadata": {
      "needs_background": "light"
     },
     "output_type": "display_data"
    }
   ],
   "source": [
    "# loss curve\n",
    "plotgraph(epochs, loss, val_loss, \"Loss\")"
   ]
  },
  {
   "cell_type": "code",
   "execution_count": 17,
   "metadata": {},
   "outputs": [
    {
     "name": "stdout",
     "output_type": "stream",
     "text": [
      "Test loss: 0.3901056945323944\n",
      "Test accuracy: 0.8674397468566895\n"
     ]
    }
   ],
   "source": [
    "score = model.evaluate(test_x, test_y, verbose=0)\n",
    "print(\"Test loss:\", score[0])\n",
    "print(\"Test accuracy:\", score[1])"
   ]
  }
 ],
 "metadata": {
  "kernelspec": {
   "display_name": "Python 3.10.4 64-bit",
   "language": "python",
   "name": "python3"
  },
  "language_info": {
   "codemirror_mode": {
    "name": "ipython",
    "version": 3
   },
   "file_extension": ".py",
   "mimetype": "text/x-python",
   "name": "python",
   "nbconvert_exporter": "python",
   "pygments_lexer": "ipython3",
   "version": "3.10.4"
  },
  "orig_nbformat": 4,
  "vscode": {
   "interpreter": {
    "hash": "4bab23f09fb65a505bfbe81ca14cc25f1573a18df8f89bc62fc496e048d8d28a"
   }
  }
 },
 "nbformat": 4,
 "nbformat_minor": 2
}
