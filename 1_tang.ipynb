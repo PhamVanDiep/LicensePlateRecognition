{
 "cells": [
  {
   "cell_type": "code",
   "execution_count": 1,
   "metadata": {},
   "outputs": [],
   "source": [
    "import pandas as pd\n",
    "import numpy as np\n",
    "import matplotlib.pyplot as plt\n",
    "from sklearn.model_selection import train_test_split\n",
    "#keras\n",
    "from keras.models import Sequential\n",
    "from keras.layers import Dense, Dropout, Flatten\n",
    "from keras.layers import Conv2D, MaxPooling2D\n",
    "from keras.utils import np_utils"
   ]
  },
  {
   "cell_type": "code",
   "execution_count": 2,
   "metadata": {},
   "outputs": [],
   "source": [
    "train = pd.read_csv(\"emnist-balanced-train.csv\",delimiter = ',')\n",
    "test = pd.read_csv(\"emnist-balanced-test.csv\", delimiter = ',')\n",
    "HEIGHT = 28\n",
    "WIDTH = 28\n",
    "\n",
    "\n",
    "# Split x and y\n",
    "train_x = train.iloc[:,1:]\n",
    "train_y = train.iloc[:,0]\n",
    "del train\n",
    "\n",
    "test_x = test.iloc[:,1:]\n",
    "test_y = test.iloc[:,0]\n",
    "del test\n",
    "def rotate(image):\n",
    "    image = image.reshape([HEIGHT, WIDTH])\n",
    "    image = np.fliplr(image)\n",
    "    image = np.rot90(image)\n",
    "    return image\n",
    "# Flip and rotate image\n",
    "train_x = np.asarray(train_x)\n",
    "train_x = np.apply_along_axis(rotate, 1, train_x)\n",
    "test_x = np.asarray(test_x)\n",
    "test_x = np.apply_along_axis(rotate, 1, test_x)\n",
    "# Normalise\n",
    "train_x = train_x.astype('float32')\n",
    "train_x /= 255\n",
    "test_x = test_x.astype('float32')\n",
    "test_x /= 255\n",
    "# number of classes\n",
    "num_classes = train_y.nunique()\n",
    "# One hot encoding\n",
    "train_y = np_utils.to_categorical(train_y, num_classes)\n",
    "test_y = np_utils.to_categorical(test_y, num_classes)\n",
    "# partition to train and val\n",
    "train_x, val_x, train_y, val_y = train_test_split(train_x, train_y, test_size= 0.10, random_state=7)\n",
    "# Reshape image for CNN\n",
    "train_x = train_x.reshape(-1, HEIGHT, WIDTH, 1)\n",
    "test_x = test_x.reshape(-1, HEIGHT, WIDTH, 1)"
   ]
  },
  {
   "cell_type": "code",
   "execution_count": 3,
   "metadata": {},
   "outputs": [
    {
     "name": "stdout",
     "output_type": "stream",
     "text": [
      "Epoch 1/10\n",
      "199/199 [==============================] - 104s 520ms/step - loss: 1.0690 - accuracy: 0.6955 - val_loss: 0.6284 - val_accuracy: 0.7999\n",
      "Epoch 2/10\n",
      "199/199 [==============================] - 105s 528ms/step - loss: 0.5389 - accuracy: 0.8276 - val_loss: 0.5116 - val_accuracy: 0.8352\n",
      "Epoch 3/10\n",
      "199/199 [==============================] - 99s 498ms/step - loss: 0.4485 - accuracy: 0.8523 - val_loss: 0.4696 - val_accuracy: 0.8442\n",
      "Epoch 4/10\n",
      "199/199 [==============================] - 100s 502ms/step - loss: 0.4017 - accuracy: 0.8647 - val_loss: 0.4434 - val_accuracy: 0.8492\n",
      "Epoch 5/10\n",
      "199/199 [==============================] - 106s 531ms/step - loss: 0.3679 - accuracy: 0.8734 - val_loss: 0.4319 - val_accuracy: 0.8513\n",
      "Epoch 6/10\n",
      "199/199 [==============================] - 101s 508ms/step - loss: 0.3426 - accuracy: 0.8817 - val_loss: 0.4181 - val_accuracy: 0.8574\n",
      "Epoch 7/10\n",
      "199/199 [==============================] - 99s 495ms/step - loss: 0.3174 - accuracy: 0.8893 - val_loss: 0.4091 - val_accuracy: 0.8585\n",
      "Epoch 8/10\n",
      "199/199 [==============================] - 104s 524ms/step - loss: 0.2991 - accuracy: 0.8931 - val_loss: 0.4295 - val_accuracy: 0.8480\n",
      "Epoch 9/10\n",
      "199/199 [==============================] - 102s 514ms/step - loss: 0.2785 - accuracy: 0.8993 - val_loss: 0.4042 - val_accuracy: 0.8629\n",
      "Epoch 10/10\n",
      "199/199 [==============================] - 100s 503ms/step - loss: 0.2621 - accuracy: 0.9046 - val_loss: 0.4102 - val_accuracy: 0.8619\n"
     ]
    }
   ],
   "source": [
    "model = Sequential()\n",
    "model.add(Conv2D(filters=128, kernel_size=(5,5), padding = 'same', activation='relu', input_shape=(HEIGHT, WIDTH,1)))\n",
    "model.add(MaxPooling2D(pool_size=(2,2), strides=(2,2)))\n",
    "model.add(Flatten())\n",
    "model.add(Dense(units=128, activation='relu'))\n",
    "model.add(Dense(units=num_classes, activation='softmax'))\n",
    "\n",
    "# model.summary()\n",
    "\n",
    "model.compile(loss='categorical_crossentropy', optimizer='adam', metrics=['accuracy'])\n",
    "history = model.fit(train_x, train_y, epochs=10, batch_size=512, verbose=1, validation_data=(val_x, val_y))"
   ]
  },
  {
   "cell_type": "code",
   "execution_count": 4,
   "metadata": {},
   "outputs": [
    {
     "data": {
      "image/png": "[encoded data removed]",
      "text/plain": [
       "<Figure size 432x288 with 1 Axes>"
      ]
     },
     "metadata": {
      "needs_background": "light"
     },
     "output_type": "display_data"
    },
    {
     "data": {
      "image/png": "[encoded data removed]",
      "text/plain": [
       "<Figure size 432x288 with 1 Axes>"
      ]
     },
     "metadata": {
      "needs_background": "light"
     },
     "output_type": "display_data"
    },
    {
     "name": "stdout",
     "output_type": "stream",
     "text": [
      "Test loss: 0.43146830797195435\n",
      "Test accuracy: 0.8615351915359497\n"
     ]
    }
   ],
   "source": [
    "# plot accuracy and loss\n",
    "def plotgraph(epochs, acc, val_acc, type):\n",
    "    plt.plot(epochs, acc, 'b')\n",
    "    plt.plot(epochs, val_acc, 'r')\n",
    "    plt.xlabel('Epoch')\n",
    "    plt.legend(['Train', 'Val'], loc='upper left')\n",
    "    if (type == \"Accuracy\"):\n",
    "        plt.title('Model accuracy')\n",
    "        plt.ylabel('Accuracy')\n",
    "    else:\n",
    "        plt.title('Model loss')\n",
    "        plt.ylabel('Loss')\n",
    "    plt.show()\n",
    "acc = history.history['accuracy']\n",
    "val_acc = history.history['val_accuracy']\n",
    "loss = history.history['loss']\n",
    "val_loss = history.history['val_loss']\n",
    "epochs = range(1,len(acc)+1)\n",
    "plotgraph(epochs, acc, val_acc, \"Accuracy\")\n",
    "# loss curve\n",
    "plotgraph(epochs, loss, val_loss, \"Loss\")\n",
    "score = model.evaluate(test_x, test_y, verbose=0)\n",
    "print(\"Test loss:\", score[0])\n",
    "print(\"Test accuracy:\", score[1])"
   ]
  }
 ],
 "metadata": {
  "kernelspec": {
   "display_name": "Python 3.10.4 64-bit",
   "language": "python",
   "name": "python3"
  },
  "language_info": {
   "codemirror_mode": {
    "name": "ipython",
    "version": 3
   },
   "file_extension": ".py",
   "mimetype": "text/x-python",
   "name": "python",
   "nbconvert_exporter": "python",
   "pygments_lexer": "ipython3",
   "version": "3.10.4"
  },
  "orig_nbformat": 4,
  "vscode": {
   "interpreter": {
    "hash": "4bab23f09fb65a505bfbe81ca14cc25f1573a18df8f89bc62fc496e048d8d28a"
   }
  }
 },
 "nbformat": 4,
 "nbformat_minor": 2
}
